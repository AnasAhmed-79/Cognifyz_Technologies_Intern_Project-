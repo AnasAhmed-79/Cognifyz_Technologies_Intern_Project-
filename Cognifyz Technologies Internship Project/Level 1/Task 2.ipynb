{
 "cells": [
  {
   "cell_type": "code",
   "execution_count": 1,
   "id": "84dcfb62",
   "metadata": {},
   "outputs": [],
   "source": [
    "# Import the Libraries:-\n",
    "import numpy as np \n",
    "import pandas as pd \n",
    "import matplotlib.pyplot as plt \n",
    "import seaborn as sns "
   ]
  },
  {
   "cell_type": "code",
   "execution_count": 2,
   "id": "aedc4cd1",
   "metadata": {},
   "outputs": [],
   "source": [
    "# Load the Dataset \n",
    "df=pd.read_csv(\"Dataset.csv\")"
   ]
  },
  {
   "cell_type": "markdown",
   "id": "7ba22acb",
   "metadata": {},
   "source": [
    "## Overview of the Data :-"
   ]
  },
  {
   "cell_type": "code",
   "execution_count": 3,
   "id": "4b635a14",
   "metadata": {},
   "outputs": [
    {
     "data": {
      "text/plain": [
       "(9551, 21)"
      ]
     },
     "execution_count": 3,
     "metadata": {},
     "output_type": "execute_result"
    }
   ],
   "source": [
    "df.shape"
   ]
  },
  {
   "cell_type": "code",
   "execution_count": 11,
   "id": "a3f27b3b",
   "metadata": {},
   "outputs": [],
   "source": [
    "pd.set_option('display.max_columns',None)"
   ]
  },
  {
   "cell_type": "code",
   "execution_count": 12,
   "id": "730dc15d",
   "metadata": {},
   "outputs": [
    {
     "data": {
      "text/html": [
       "<div>\n",
       "<style scoped>\n",
       "    .dataframe tbody tr th:only-of-type {\n",
       "        vertical-align: middle;\n",
       "    }\n",
       "\n",
       "    .dataframe tbody tr th {\n",
       "        vertical-align: top;\n",
       "    }\n",
       "\n",
       "    .dataframe thead th {\n",
       "        text-align: right;\n",
       "    }\n",
       "</style>\n",
       "<table border=\"1\" class=\"dataframe\">\n",
       "  <thead>\n",
       "    <tr style=\"text-align: right;\">\n",
       "      <th></th>\n",
       "      <th>Restaurant ID</th>\n",
       "      <th>Restaurant Name</th>\n",
       "      <th>Country Code</th>\n",
       "      <th>City</th>\n",
       "      <th>Address</th>\n",
       "      <th>Locality</th>\n",
       "      <th>Locality Verbose</th>\n",
       "      <th>Longitude</th>\n",
       "      <th>Latitude</th>\n",
       "      <th>Cuisines</th>\n",
       "      <th>Average Cost for two</th>\n",
       "      <th>Currency</th>\n",
       "      <th>Has Table booking</th>\n",
       "      <th>Has Online delivery</th>\n",
       "      <th>Is delivering now</th>\n",
       "      <th>Switch to order menu</th>\n",
       "      <th>Price range</th>\n",
       "      <th>Aggregate rating</th>\n",
       "      <th>Rating color</th>\n",
       "      <th>Rating text</th>\n",
       "      <th>Votes</th>\n",
       "    </tr>\n",
       "  </thead>\n",
       "  <tbody>\n",
       "    <tr>\n",
       "      <th>0</th>\n",
       "      <td>6317637</td>\n",
       "      <td>Le Petit Souffle</td>\n",
       "      <td>162</td>\n",
       "      <td>Makati City</td>\n",
       "      <td>Third Floor, Century City Mall, Kalayaan Avenu...</td>\n",
       "      <td>Century City Mall, Poblacion, Makati City</td>\n",
       "      <td>Century City Mall, Poblacion, Makati City, Mak...</td>\n",
       "      <td>121.027535</td>\n",
       "      <td>14.565443</td>\n",
       "      <td>French, Japanese, Desserts</td>\n",
       "      <td>1100</td>\n",
       "      <td>Botswana Pula(P)</td>\n",
       "      <td>Yes</td>\n",
       "      <td>No</td>\n",
       "      <td>No</td>\n",
       "      <td>No</td>\n",
       "      <td>3</td>\n",
       "      <td>4.8</td>\n",
       "      <td>Dark Green</td>\n",
       "      <td>Excellent</td>\n",
       "      <td>314</td>\n",
       "    </tr>\n",
       "    <tr>\n",
       "      <th>1</th>\n",
       "      <td>6304287</td>\n",
       "      <td>Izakaya Kikufuji</td>\n",
       "      <td>162</td>\n",
       "      <td>Makati City</td>\n",
       "      <td>Little Tokyo, 2277 Chino Roces Avenue, Legaspi...</td>\n",
       "      <td>Little Tokyo, Legaspi Village, Makati City</td>\n",
       "      <td>Little Tokyo, Legaspi Village, Makati City, Ma...</td>\n",
       "      <td>121.014101</td>\n",
       "      <td>14.553708</td>\n",
       "      <td>Japanese</td>\n",
       "      <td>1200</td>\n",
       "      <td>Botswana Pula(P)</td>\n",
       "      <td>Yes</td>\n",
       "      <td>No</td>\n",
       "      <td>No</td>\n",
       "      <td>No</td>\n",
       "      <td>3</td>\n",
       "      <td>4.5</td>\n",
       "      <td>Dark Green</td>\n",
       "      <td>Excellent</td>\n",
       "      <td>591</td>\n",
       "    </tr>\n",
       "    <tr>\n",
       "      <th>2</th>\n",
       "      <td>6300002</td>\n",
       "      <td>Heat - Edsa Shangri-La</td>\n",
       "      <td>162</td>\n",
       "      <td>Mandaluyong City</td>\n",
       "      <td>Edsa Shangri-La, 1 Garden Way, Ortigas, Mandal...</td>\n",
       "      <td>Edsa Shangri-La, Ortigas, Mandaluyong City</td>\n",
       "      <td>Edsa Shangri-La, Ortigas, Mandaluyong City, Ma...</td>\n",
       "      <td>121.056831</td>\n",
       "      <td>14.581404</td>\n",
       "      <td>Seafood, Asian, Filipino, Indian</td>\n",
       "      <td>4000</td>\n",
       "      <td>Botswana Pula(P)</td>\n",
       "      <td>Yes</td>\n",
       "      <td>No</td>\n",
       "      <td>No</td>\n",
       "      <td>No</td>\n",
       "      <td>4</td>\n",
       "      <td>4.4</td>\n",
       "      <td>Green</td>\n",
       "      <td>Very Good</td>\n",
       "      <td>270</td>\n",
       "    </tr>\n",
       "    <tr>\n",
       "      <th>3</th>\n",
       "      <td>6318506</td>\n",
       "      <td>Ooma</td>\n",
       "      <td>162</td>\n",
       "      <td>Mandaluyong City</td>\n",
       "      <td>Third Floor, Mega Fashion Hall, SM Megamall, O...</td>\n",
       "      <td>SM Megamall, Ortigas, Mandaluyong City</td>\n",
       "      <td>SM Megamall, Ortigas, Mandaluyong City, Mandal...</td>\n",
       "      <td>121.056475</td>\n",
       "      <td>14.585318</td>\n",
       "      <td>Japanese, Sushi</td>\n",
       "      <td>1500</td>\n",
       "      <td>Botswana Pula(P)</td>\n",
       "      <td>No</td>\n",
       "      <td>No</td>\n",
       "      <td>No</td>\n",
       "      <td>No</td>\n",
       "      <td>4</td>\n",
       "      <td>4.9</td>\n",
       "      <td>Dark Green</td>\n",
       "      <td>Excellent</td>\n",
       "      <td>365</td>\n",
       "    </tr>\n",
       "    <tr>\n",
       "      <th>4</th>\n",
       "      <td>6314302</td>\n",
       "      <td>Sambo Kojin</td>\n",
       "      <td>162</td>\n",
       "      <td>Mandaluyong City</td>\n",
       "      <td>Third Floor, Mega Atrium, SM Megamall, Ortigas...</td>\n",
       "      <td>SM Megamall, Ortigas, Mandaluyong City</td>\n",
       "      <td>SM Megamall, Ortigas, Mandaluyong City, Mandal...</td>\n",
       "      <td>121.057508</td>\n",
       "      <td>14.584450</td>\n",
       "      <td>Japanese, Korean</td>\n",
       "      <td>1500</td>\n",
       "      <td>Botswana Pula(P)</td>\n",
       "      <td>Yes</td>\n",
       "      <td>No</td>\n",
       "      <td>No</td>\n",
       "      <td>No</td>\n",
       "      <td>4</td>\n",
       "      <td>4.8</td>\n",
       "      <td>Dark Green</td>\n",
       "      <td>Excellent</td>\n",
       "      <td>229</td>\n",
       "    </tr>\n",
       "  </tbody>\n",
       "</table>\n",
       "</div>"
      ],
      "text/plain": [
       "   Restaurant ID         Restaurant Name  Country Code              City  \\\n",
       "0        6317637        Le Petit Souffle           162       Makati City   \n",
       "1        6304287        Izakaya Kikufuji           162       Makati City   \n",
       "2        6300002  Heat - Edsa Shangri-La           162  Mandaluyong City   \n",
       "3        6318506                    Ooma           162  Mandaluyong City   \n",
       "4        6314302             Sambo Kojin           162  Mandaluyong City   \n",
       "\n",
       "                                             Address  \\\n",
       "0  Third Floor, Century City Mall, Kalayaan Avenu...   \n",
       "1  Little Tokyo, 2277 Chino Roces Avenue, Legaspi...   \n",
       "2  Edsa Shangri-La, 1 Garden Way, Ortigas, Mandal...   \n",
       "3  Third Floor, Mega Fashion Hall, SM Megamall, O...   \n",
       "4  Third Floor, Mega Atrium, SM Megamall, Ortigas...   \n",
       "\n",
       "                                     Locality  \\\n",
       "0   Century City Mall, Poblacion, Makati City   \n",
       "1  Little Tokyo, Legaspi Village, Makati City   \n",
       "2  Edsa Shangri-La, Ortigas, Mandaluyong City   \n",
       "3      SM Megamall, Ortigas, Mandaluyong City   \n",
       "4      SM Megamall, Ortigas, Mandaluyong City   \n",
       "\n",
       "                                    Locality Verbose   Longitude   Latitude  \\\n",
       "0  Century City Mall, Poblacion, Makati City, Mak...  121.027535  14.565443   \n",
       "1  Little Tokyo, Legaspi Village, Makati City, Ma...  121.014101  14.553708   \n",
       "2  Edsa Shangri-La, Ortigas, Mandaluyong City, Ma...  121.056831  14.581404   \n",
       "3  SM Megamall, Ortigas, Mandaluyong City, Mandal...  121.056475  14.585318   \n",
       "4  SM Megamall, Ortigas, Mandaluyong City, Mandal...  121.057508  14.584450   \n",
       "\n",
       "                           Cuisines  Average Cost for two          Currency  \\\n",
       "0        French, Japanese, Desserts                  1100  Botswana Pula(P)   \n",
       "1                          Japanese                  1200  Botswana Pula(P)   \n",
       "2  Seafood, Asian, Filipino, Indian                  4000  Botswana Pula(P)   \n",
       "3                   Japanese, Sushi                  1500  Botswana Pula(P)   \n",
       "4                  Japanese, Korean                  1500  Botswana Pula(P)   \n",
       "\n",
       "  Has Table booking Has Online delivery Is delivering now  \\\n",
       "0               Yes                  No                No   \n",
       "1               Yes                  No                No   \n",
       "2               Yes                  No                No   \n",
       "3                No                  No                No   \n",
       "4               Yes                  No                No   \n",
       "\n",
       "  Switch to order menu  Price range  Aggregate rating Rating color  \\\n",
       "0                   No            3               4.8   Dark Green   \n",
       "1                   No            3               4.5   Dark Green   \n",
       "2                   No            4               4.4        Green   \n",
       "3                   No            4               4.9   Dark Green   \n",
       "4                   No            4               4.8   Dark Green   \n",
       "\n",
       "  Rating text  Votes  \n",
       "0   Excellent    314  \n",
       "1   Excellent    591  \n",
       "2   Very Good    270  \n",
       "3   Excellent    365  \n",
       "4   Excellent    229  "
      ]
     },
     "execution_count": 12,
     "metadata": {},
     "output_type": "execute_result"
    }
   ],
   "source": [
    "df.head()"
   ]
  },
  {
   "cell_type": "markdown",
   "id": "5fa493b8",
   "metadata": {},
   "source": [
    "# Task 2 : Descriptive Analysis "
   ]
  },
  {
   "cell_type": "markdown",
   "id": "9c994c47",
   "metadata": {},
   "source": [
    "## Calculate basic statistical measures (mean, median, standard deviation, etc.) for numerical columns.\n"
   ]
  },
  {
   "cell_type": "code",
   "execution_count": null,
   "id": "84a3c13e",
   "metadata": {},
   "outputs": [],
   "source": []
  },
  {
   "cell_type": "code",
   "execution_count": 6,
   "id": "8c133d83",
   "metadata": {},
   "outputs": [],
   "source": [
    "df_num=df.select_dtypes(include=['int64','float64']).columns"
   ]
  },
  {
   "cell_type": "code",
   "execution_count": 7,
   "id": "35deed36",
   "metadata": {},
   "outputs": [
    {
     "data": {
      "text/plain": [
       "Index(['Restaurant ID', 'Country Code', 'Longitude', 'Latitude',\n",
       "       'Average Cost for two', 'Price range', 'Aggregate rating', 'Votes'],\n",
       "      dtype='object')"
      ]
     },
     "execution_count": 7,
     "metadata": {},
     "output_type": "execute_result"
    }
   ],
   "source": [
    "df_num"
   ]
  },
  {
   "cell_type": "markdown",
   "id": "a6e82228",
   "metadata": {},
   "source": [
    "# Mean, Median and Standard Deviation"
   ]
  },
  {
   "cell_type": "markdown",
   "id": "ab75d034",
   "metadata": {},
   "source": [
    "### Median of Average Cost for two:--"
   ]
  },
  {
   "cell_type": "code",
   "execution_count": 27,
   "id": "d0aa26c6",
   "metadata": {},
   "outputs": [
    {
     "data": {
      "text/plain": [
       "<AxesSubplot:xlabel='Average Cost for two'>"
      ]
     },
     "execution_count": 27,
     "metadata": {},
     "output_type": "execute_result"
    },
    {
     "data": {
      "image/png": "[encoded data removed]",
      "text/plain": [
       "<Figure size 432x288 with 1 Axes>"
      ]
     },
     "metadata": {
      "needs_background": "light"
     },
     "output_type": "display_data"
    }
   ],
   "source": [
    "sns.boxplot(x=df[\"Average Cost for two\"])"
   ]
  },
  {
   "cell_type": "code",
   "execution_count": 25,
   "id": "4a6683ce",
   "metadata": {},
   "outputs": [
    {
     "data": {
      "text/plain": [
       "400.0"
      ]
     },
     "execution_count": 25,
     "metadata": {},
     "output_type": "execute_result"
    }
   ],
   "source": [
    "# We find Median of the column because outliers is present \n",
    "np.median(df['Average Cost for two'])"
   ]
  },
  {
   "cell_type": "markdown",
   "id": "33e5027e",
   "metadata": {},
   "source": [
    "### Standard Deviation :--"
   ]
  },
  {
   "cell_type": "code",
   "execution_count": 36,
   "id": "8a9cda51",
   "metadata": {},
   "outputs": [
    {
     "data": {
      "text/plain": [
       "16120.339098781196"
      ]
     },
     "execution_count": 36,
     "metadata": {},
     "output_type": "execute_result"
    }
   ],
   "source": [
    "np.std(df['Average Cost for two'])"
   ]
  },
  {
   "cell_type": "markdown",
   "id": "9b9625f2",
   "metadata": {},
   "source": [
    "### Median of Price Range :--"
   ]
  },
  {
   "cell_type": "code",
   "execution_count": 26,
   "id": "21117549",
   "metadata": {},
   "outputs": [
    {
     "data": {
      "text/plain": [
       "<AxesSubplot:xlabel='Price range'>"
      ]
     },
     "execution_count": 26,
     "metadata": {},
     "output_type": "execute_result"
    },
    {
     "data": {
      "image/png": "[encoded data removed]",
      "text/plain": [
       "<Figure size 432x288 with 1 Axes>"
      ]
     },
     "metadata": {
      "needs_background": "light"
     },
     "output_type": "display_data"
    }
   ],
   "source": [
    "sns.boxplot(x=df[\"Price range\"])"
   ]
  },
  {
   "cell_type": "code",
   "execution_count": 33,
   "id": "009354e0",
   "metadata": {},
   "outputs": [
    {
     "data": {
      "text/plain": [
       "1.804837189823055"
      ]
     },
     "execution_count": 33,
     "metadata": {},
     "output_type": "execute_result"
    }
   ],
   "source": [
    "np.mean(df['Price range'])"
   ]
  },
  {
   "cell_type": "code",
   "execution_count": 34,
   "id": "504596e3",
   "metadata": {},
   "outputs": [
    {
     "data": {
      "text/plain": [
       "2.0"
      ]
     },
     "execution_count": 34,
     "metadata": {},
     "output_type": "execute_result"
    }
   ],
   "source": [
    "# We find Median of the column because outliers is present :-\n",
    "np.median(df['Price range'])"
   ]
  },
  {
   "cell_type": "markdown",
   "id": "f54d2afe",
   "metadata": {},
   "source": [
    "### Standard Deviation :--"
   ]
  },
  {
   "cell_type": "code",
   "execution_count": 37,
   "id": "af066e6c",
   "metadata": {},
   "outputs": [
    {
     "data": {
      "text/plain": [
       "0.9055614370450502"
      ]
     },
     "execution_count": 37,
     "metadata": {},
     "output_type": "execute_result"
    }
   ],
   "source": [
    "np.std(df['Price range'])"
   ]
  },
  {
   "cell_type": "markdown",
   "id": "72f72cd9",
   "metadata": {},
   "source": [
    "### Mean of Aggregate Rating :--"
   ]
  },
  {
   "cell_type": "code",
   "execution_count": 29,
   "id": "7418c534",
   "metadata": {},
   "outputs": [
    {
     "data": {
      "text/plain": [
       "<AxesSubplot:xlabel='Aggregate rating'>"
      ]
     },
     "execution_count": 29,
     "metadata": {},
     "output_type": "execute_result"
    },
    {
     "data": {
      "image/png": "[encoded data removed]",
      "text/plain": [
       "<Figure size 432x288 with 1 Axes>"
      ]
     },
     "metadata": {
      "needs_background": "light"
     },
     "output_type": "display_data"
    }
   ],
   "source": [
    "sns.boxplot(x=df[\"Aggregate rating\"])"
   ]
  },
  {
   "cell_type": "code",
   "execution_count": 17,
   "id": "ac2b27bd",
   "metadata": {},
   "outputs": [
    {
     "data": {
      "text/plain": [
       "2.6663700136111426"
      ]
     },
     "execution_count": 17,
     "metadata": {},
     "output_type": "execute_result"
    }
   ],
   "source": [
    "np.mean(df['Aggregate rating'])"
   ]
  },
  {
   "cell_type": "code",
   "execution_count": 30,
   "id": "a10b2dc4",
   "metadata": {},
   "outputs": [
    {
     "data": {
      "text/plain": [
       "3.2"
      ]
     },
     "execution_count": 30,
     "metadata": {},
     "output_type": "execute_result"
    }
   ],
   "source": [
    "# One outlier is present so we preferred and calculate the median of the columns.\n",
    "np.median(df['Aggregate rating'])"
   ]
  },
  {
   "cell_type": "markdown",
   "id": "602a3352",
   "metadata": {},
   "source": [
    "### Standard Deviation :--"
   ]
  },
  {
   "cell_type": "code",
   "execution_count": 38,
   "id": "c061d807",
   "metadata": {},
   "outputs": [
    {
     "data": {
      "text/plain": [
       "1.5162981543923362"
      ]
     },
     "execution_count": 38,
     "metadata": {},
     "output_type": "execute_result"
    }
   ],
   "source": [
    "np.std(df['Aggregate rating'])"
   ]
  },
  {
   "cell_type": "markdown",
   "id": "c8f4474e",
   "metadata": {},
   "source": [
    "### Mean of Votes :-"
   ]
  },
  {
   "cell_type": "code",
   "execution_count": 31,
   "id": "d7d917e8",
   "metadata": {},
   "outputs": [
    {
     "data": {
      "text/plain": [
       "<AxesSubplot:xlabel='Votes'>"
      ]
     },
     "execution_count": 31,
     "metadata": {},
     "output_type": "execute_result"
    },
    {
     "data": {
      "image/png": "[encoded data removed]",
      "text/plain": [
       "<Figure size 432x288 with 1 Axes>"
      ]
     },
     "metadata": {
      "needs_background": "light"
     },
     "output_type": "display_data"
    }
   ],
   "source": [
    "sns.boxplot(x=df[\"Votes\"])"
   ]
  },
  {
   "cell_type": "code",
   "execution_count": 32,
   "id": "e5292ae2",
   "metadata": {},
   "outputs": [
    {
     "data": {
      "text/plain": [
       "31.0"
      ]
     },
     "execution_count": 32,
     "metadata": {},
     "output_type": "execute_result"
    }
   ],
   "source": [
    "np.median(df['Votes'])"
   ]
  },
  {
   "cell_type": "code",
   "execution_count": null,
   "id": "feaf18fc",
   "metadata": {},
   "outputs": [],
   "source": []
  },
  {
   "cell_type": "markdown",
   "id": "9100a4a2",
   "metadata": {},
   "source": [
    "# Explore the distribution of categorical variables like \"Country Code\",  \"City,\" and \"Cuisines.\" Identify the top cuisines and cities with the highest number of restaurants."
   ]
  },
  {
   "cell_type": "markdown",
   "id": "93181903",
   "metadata": {},
   "source": [
    "## (a) Count the number of restaurants per country code:-"
   ]
  },
  {
   "cell_type": "code",
   "execution_count": 40,
   "id": "27fd0f8b",
   "metadata": {},
   "outputs": [
    {
     "name": "stdout",
     "output_type": "stream",
     "text": [
      "Number of restaurants per country code:\n",
      "1      8652\n",
      "216     434\n",
      "215      80\n",
      "30       60\n",
      "214      60\n",
      "189      60\n",
      "148      40\n",
      "208      34\n",
      "14       24\n",
      "162      22\n",
      "94       21\n",
      "184      20\n",
      "166      20\n",
      "191      20\n",
      "37        4\n",
      "Name: Country Code, dtype: int64\n"
     ]
    }
   ],
   "source": [
    "country_counts = df['Country Code'].value_counts()\n",
    "print(\"Number of restaurants per country code:\")\n",
    "print(country_counts)"
   ]
  },
  {
   "cell_type": "markdown",
   "id": "4a71d93a",
   "metadata": {},
   "source": [
    "## (b) Count the number of restaurants per city:-"
   ]
  },
  {
   "cell_type": "code",
   "execution_count": 41,
   "id": "82f54db1",
   "metadata": {},
   "outputs": [
    {
     "name": "stdout",
     "output_type": "stream",
     "text": [
      "Number of restaurants per city:\n",
      "New Delhi                 5473\n",
      "Gurgaon                   1118\n",
      "Noida                     1080\n",
      "Faridabad                  251\n",
      "Ghaziabad                   25\n",
      "Bhubaneshwar                21\n",
      "Amritsar                    21\n",
      "Ahmedabad                   21\n",
      "Lucknow                     21\n",
      "Guwahati                    21\n",
      "Ludhiana                    20\n",
      "Rest of Hawaii              20\n",
      "Kochi                       20\n",
      "Kolkata                     20\n",
      "Pocatello                   20\n",
      "Pensacola                   20\n",
      "Mumbai                      20\n",
      "Mangalore                   20\n",
      "Singapore                   20\n",
      "Orlando                     20\n",
      "Mysore                      20\n",
      "Nagpur                      20\n",
      "Nashik                      20\n",
      "Coimbatore                  20\n",
      "Dehradun                    20\n",
      "Savannah                    20\n",
      "Tampa Bay                   20\n",
      "Sioux City                  20\n",
      "Abu Dhabi                   20\n",
      "Bangalore                   20\n",
      "Aurangabad                  20\n",
      "Allahabad                   20\n",
      "Agra                        20\n",
      "Sharjah                     20\n",
      "Dubai                       20\n",
      "Goa                         20\n",
      "Bhopal                      20\n",
      "Chennai                     20\n",
      "Waterloo                    20\n",
      "Indore                      20\n",
      "Valdosta                    20\n",
      "Puducherry                  20\n",
      "Kanpur                      20\n",
      "Jaipur                      20\n",
      "Patna                       20\n",
      "Macon                       20\n",
      "Edinburgh                   20\n",
      "London                      20\n",
      "Manchester                  20\n",
      "Pune                        20\n",
      "Cedar Rapids/Iowa City      20\n",
      "Boise                       20\n",
      "Cape Town                   20\n",
      "Augusta                     20\n",
      "Athens                      20\n",
      "Albany                      20\n",
      "S��o Paulo                  20\n",
      "Rio de Janeiro              20\n",
      "Bras�_lia                   20\n",
      "Pretoria                    20\n",
      "Colombo                     20\n",
      "Ankara                      20\n",
      "Columbus                    20\n",
      "Doha                        20\n",
      "Dalton                      20\n",
      "Varanasi                    20\n",
      "Des Moines                  20\n",
      "Birmingham                  20\n",
      "Dubuque                     20\n",
      "Ranchi                      20\n",
      "Wellington City             20\n",
      "Auckland                    20\n",
      "Surat                       20\n",
      "Gainesville                 20\n",
      "Davenport                   20\n",
      "Vadodara                    20\n",
      "Vizag                       20\n",
      "Hyderabad                   18\n",
      "Chandigarh                  18\n",
      "Jakarta                     16\n",
      "��stanbul                   14\n",
      "Sandton                     11\n",
      "Johannesburg                 6\n",
      "Taguig City                  4\n",
      "Mandaluyong City             4\n",
      "Pasig City                   3\n",
      "Pasay City                   3\n",
      "Bogor                        2\n",
      "Inner City                   2\n",
      "Secunderabad                 2\n",
      "Tangerang                    2\n",
      "Makati City                  2\n",
      "San Juan City                2\n",
      "Santa Rosa                   2\n",
      "Hepburn Springs              2\n",
      "Yorkton                      1\n",
      "Consort                      1\n",
      "Inverloch                    1\n",
      "Huskisson                    1\n",
      "Bandung                      1\n",
      "Forrest                      1\n",
      "Flaxton                      1\n",
      "Fernley                      1\n",
      "East Ballina                 1\n",
      "Dicky Beach                  1\n",
      "Cochrane                     1\n",
      "Lakeview                     1\n",
      "Clatskanie                   1\n",
      "Chatham-Kent                 1\n",
      "Beechworth                   1\n",
      "Balingup                     1\n",
      "Armidale                     1\n",
      "Tagaytay City                1\n",
      "Randburg                     1\n",
      "Quezon City                  1\n",
      "Lakes Entrance               1\n",
      "Lincoln                      1\n",
      "Winchester Bay               1\n",
      "Lorn                         1\n",
      "Weirton                      1\n",
      "Victor Harbor                1\n",
      "Vernonia                     1\n",
      "Trentham East                1\n",
      "Tanunda                      1\n",
      "Princeton                    1\n",
      "Potrero                      1\n",
      "Phillip Island               1\n",
      "Penola                       1\n",
      "Paynesville                  1\n",
      "Mohali                       1\n",
      "Palm Cove                    1\n",
      "Ojo Caliente                 1\n",
      "Montville                    1\n",
      "Monroe                       1\n",
      "Miller                       1\n",
      "Middleton Beach              1\n",
      "Panchkula                    1\n",
      "Mc Millan                    1\n",
      "Mayfield                     1\n",
      "Macedon                      1\n",
      "Vineland Station             1\n",
      "Name: City, dtype: int64\n"
     ]
    }
   ],
   "source": [
    "city_counts = df['City'].value_counts()\n",
    "print(\"Number of restaurants per city:\")\n",
    "print(city_counts)"
   ]
  },
  {
   "cell_type": "markdown",
   "id": "648ee9b2",
   "metadata": {},
   "source": [
    "## (c) Count the number of restaurants for each cuisine (top cuisines):-"
   ]
  },
  {
   "cell_type": "code",
   "execution_count": 42,
   "id": "2242eb9d",
   "metadata": {},
   "outputs": [
    {
     "name": "stdout",
     "output_type": "stream",
     "text": [
      "Number of restaurants per cuisine:\n",
      "North Indian                      936\n",
      "North Indian, Chinese             511\n",
      "Chinese                           354\n",
      "Fast Food                         354\n",
      "North Indian, Mughlai             334\n",
      "Cafe                              299\n",
      "Bakery                            218\n",
      "North Indian, Mughlai, Chinese    197\n",
      "Bakery, Desserts                  170\n",
      "Street Food                       149\n",
      "Name: Cuisines, dtype: int64\n"
     ]
    }
   ],
   "source": [
    "cuisine_counts = df['Cuisines'].value_counts()\n",
    "print(\"Number of restaurants per cuisine:\")\n",
    "print(cuisine_counts.head(10))  # Display the top 10 cuisines"
   ]
  },
  {
   "cell_type": "markdown",
   "id": "12acacc1",
   "metadata": {},
   "source": [
    "## (d) Top cities with the highest number of restaurants (e.g., top 10):-"
   ]
  },
  {
   "cell_type": "code",
   "execution_count": 43,
   "id": "e989ce13",
   "metadata": {},
   "outputs": [
    {
     "data": {
      "image/png": "[encoded data removed]",
      "text/plain": [
       "<Figure size 864x432 with 1 Axes>"
      ]
     },
     "metadata": {
      "needs_background": "light"
     },
     "output_type": "display_data"
    }
   ],
   "source": [
    "top_cities = city_counts.head(10)\n",
    "plt.figure(figsize=(12, 6))\n",
    "sns.barplot(x=top_cities.index, y=top_cities.values)\n",
    "plt.title(\"Top Cities with the Highest Number of Restaurants\")\n",
    "plt.xticks(rotation=90)\n",
    "plt.show()\n"
   ]
  },
  {
   "cell_type": "code",
   "execution_count": null,
   "id": "0cd2f36f",
   "metadata": {},
   "outputs": [],
   "source": [
    "## b. Top cuisines with the highest number of restaurants (e.g., top 10):"
   ]
  }
 ],
 "metadata": {
  "kernelspec": {
   "display_name": "Python 3 (ipykernel)",
   "language": "python",
   "name": "python3"
  },
  "language_info": {
   "codemirror_mode": {
    "name": "ipython",
    "version": 3
   },
   "file_extension": ".py",
   "mimetype": "text/x-python",
   "name": "python",
   "nbconvert_exporter": "python",
   "pygments_lexer": "ipython3",
   "version": "3.9.12"
  }
 },
 "nbformat": 4,
 "nbformat_minor": 5
}
